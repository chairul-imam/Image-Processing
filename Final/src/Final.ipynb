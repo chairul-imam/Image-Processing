{
 "cells": [
  {
   "cell_type": "markdown",
   "metadata": {
    "toc": true
   },
   "source": [
    "<h1>Table of Contents<span class=\"tocSkip\"></span></h1>\n",
    "<div class=\"toc\"><ul class=\"toc-item\"><li><span><a href=\"#Final-Lab-Pengolahan-Citra\" data-toc-modified-id=\"Final-Lab-Pengolahan-Citra-1\">Final Lab Pengolahan Citra</a></span><ul class=\"toc-item\"><li><ul class=\"toc-item\"><li><span><a href=\"#Import-Library\" data-toc-modified-id=\"Import-Library-1.0.1\">Import Library</a></span></li><li><span><a href=\"#Import-Image\" data-toc-modified-id=\"Import-Image-1.0.2\">Import Image</a></span></li></ul></li><li><span><a href=\"#Image-Padding\" data-toc-modified-id=\"Image-Padding-1.1\">Image Padding</a></span><ul class=\"toc-item\"><li><span><a href=\"#Atur-Lebar-Padding\" data-toc-modified-id=\"Atur-Lebar-Padding-1.1.1\">Atur Lebar Padding</a></span></li><li><span><a href=\"#Custom-Solid-Padding\" data-toc-modified-id=\"Custom-Solid-Padding-1.1.2\">Custom Solid Padding</a></span></li></ul></li><li><span><a href=\"#Replication-Padding\" data-toc-modified-id=\"Replication-Padding-1.2\">Replication Padding</a></span><ul class=\"toc-item\"><li><span><a href=\"#Reflective-Padding\" data-toc-modified-id=\"Reflective-Padding-1.2.1\">Reflective Padding</a></span></li></ul></li><li><span><a href=\"#Clustering-Pola-dengan-K-Means\" data-toc-modified-id=\"Clustering-Pola-dengan-K-Means-1.3\">Clustering Pola dengan K-Means</a></span><ul class=\"toc-item\"><li><span><a href=\"#KMeans\" data-toc-modified-id=\"KMeans-1.3.1\">KMeans</a></span></li></ul></li></ul></li></ul></div>"
   ]
  },
  {
   "cell_type": "markdown",
   "metadata": {},
   "source": [
    "# Final Lab Pengolahan Citra"
   ]
  },
  {
   "cell_type": "markdown",
   "metadata": {},
   "source": [
    "### Import Library"
   ]
  },
  {
   "cell_type": "code",
   "execution_count": 1,
   "metadata": {},
   "outputs": [],
   "source": [
    "import cv2\n",
    "import numpy as np\n",
    "import matplotlib.pyplot as plt"
   ]
  },
  {
   "cell_type": "markdown",
   "metadata": {},
   "source": [
    "### Import Image"
   ]
  },
  {
   "cell_type": "code",
   "execution_count": 2,
   "metadata": {},
   "outputs": [
    {
     "data": {
      "text/plain": [
       "(500, 750, 3)"
      ]
     },
     "execution_count": 2,
     "metadata": {},
     "output_type": "execute_result"
    }
   ],
   "source": [
    "# URL: https://asset.kompas.com/crops/zazlTB8ImeEmpkoiWbjB2_FW9Ug=/0x220:4000x2887/750x500/data/photo/2020/11/20/5fb785df573e5.jpg\n",
    "\n",
    "img_path = \"../input/5fb785df573e5.jpg\"\n",
    "img = cv2.imread(img_path)\n",
    "img.shape"
   ]
  },
  {
   "cell_type": "markdown",
   "metadata": {},
   "source": [
    "## Image Padding"
   ]
  },
  {
   "cell_type": "markdown",
   "metadata": {},
   "source": [
    "### Atur Lebar Padding"
   ]
  },
  {
   "cell_type": "code",
   "execution_count": 3,
   "metadata": {},
   "outputs": [
    {
     "name": "stdout",
     "output_type": "stream",
     "text": [
      "\n",
      "    Lebar gambar: 500\n",
      "    Panjang Gambar: 750\n"
     ]
    }
   ],
   "source": [
    "# informasi lebar gambar\n",
    "vertical = img.shape[0]\n",
    "\n",
    "# informasi panjang gambar\n",
    "horizontal = img.shape[1]\n",
    "\n",
    "print(f\"\"\"\n",
    "    Lebar gambar: {vertical}\n",
    "    Panjang Gambar: {horizontal}\"\"\")"
   ]
  },
  {
   "cell_type": "markdown",
   "metadata": {},
   "source": [
    "Kemudian atur lebar dan panjang padding sebesar 0.05% dari dimensi gambar."
   ]
  },
  {
   "cell_type": "code",
   "execution_count": 4,
   "metadata": {},
   "outputs": [],
   "source": [
    "# set vertical padding\n",
    "top = bottom = int(0.05 * vertical)\n",
    "\n",
    "# set horizontal padding\n",
    "left = right = int(0.05 * horizontal)"
   ]
  },
  {
   "cell_type": "markdown",
   "metadata": {},
   "source": [
    "### Custom Solid Padding"
   ]
  },
  {
   "cell_type": "code",
   "execution_count": 5,
   "metadata": {},
   "outputs": [],
   "source": [
    "# set warna padding\n",
    "color = [0, 153, 134]\n",
    "\n",
    "custom_pad = cv2.copyMakeBorder(img, \n",
    "                                top, \n",
    "                                bottom, \n",
    "                                left, \n",
    "                                right, \n",
    "                                cv2.BORDER_CONSTANT, \n",
    "                                value=color)"
   ]
  },
  {
   "cell_type": "code",
   "execution_count": 6,
   "metadata": {},
   "outputs": [
    {
     "data": {
      "text/plain": [
       "True"
      ]
     },
     "execution_count": 6,
     "metadata": {},
     "output_type": "execute_result"
    }
   ],
   "source": [
    "# save image\n",
    "cv2.imwrite(\"../output/padding/custom-padding.jpg\", \n",
    "            custom_pad)"
   ]
  },
  {
   "cell_type": "markdown",
   "metadata": {},
   "source": [
    "## Replication Padding"
   ]
  },
  {
   "cell_type": "code",
   "execution_count": 7,
   "metadata": {},
   "outputs": [],
   "source": [
    "replication = cv2.copyMakeBorder(img, \n",
    "                                 top, \n",
    "                                 bottom, \n",
    "                                 left, \n",
    "                                 right, \n",
    "                                 cv2.BORDER_REPLICATE)"
   ]
  },
  {
   "cell_type": "code",
   "execution_count": 8,
   "metadata": {},
   "outputs": [
    {
     "data": {
      "text/plain": [
       "True"
      ]
     },
     "execution_count": 8,
     "metadata": {},
     "output_type": "execute_result"
    }
   ],
   "source": [
    "# save image\n",
    "cv2.imwrite(\"../output/padding/replication-padding.jpg\", \n",
    "            replication)"
   ]
  },
  {
   "cell_type": "markdown",
   "metadata": {},
   "source": [
    "### Reflective Padding"
   ]
  },
  {
   "cell_type": "code",
   "execution_count": 9,
   "metadata": {},
   "outputs": [],
   "source": [
    "reflective = cv2.copyMakeBorder(img, \n",
    "                                top, \n",
    "                                bottom, \n",
    "                                left, \n",
    "                                right, \n",
    "                                cv2.BORDER_REFLECT)"
   ]
  },
  {
   "cell_type": "code",
   "execution_count": 10,
   "metadata": {},
   "outputs": [
    {
     "data": {
      "text/plain": [
       "True"
      ]
     },
     "execution_count": 10,
     "metadata": {},
     "output_type": "execute_result"
    }
   ],
   "source": [
    "# save image\n",
    "cv2.imwrite(\"../output/padding/reflective-padding.jpg\", \n",
    "            reflective)"
   ]
  },
  {
   "cell_type": "markdown",
   "metadata": {},
   "source": [
    "## Clustering Pola dengan K-Means"
   ]
  },
  {
   "cell_type": "code",
   "execution_count": 11,
   "metadata": {},
   "outputs": [],
   "source": [
    "Z = img.reshape((-1, 3))\n",
    "\n",
    "# konversi ke np.float32\n",
    "Z = Z.astype(np.float32, \n",
    "             copy=False)"
   ]
  },
  {
   "cell_type": "markdown",
   "metadata": {},
   "source": [
    "### KMeans"
   ]
  },
  {
   "cell_type": "code",
   "execution_count": 12,
   "metadata": {},
   "outputs": [],
   "source": [
    "# Definisi parameter di cv2.kmeans\n",
    "# data          nilai Z\n",
    "# K             jumlah kluster\n",
    "# bestLabels    None\n",
    "# criteria\n",
    "# attempts      10\n",
    "#flags          \n",
    "\n",
    "bestLabel = None\n",
    "\n",
    "# Define criteria = ( type, max_iter = 10 , epsilon = 1.0 )\n",
    "criterias = (cv2.TermCriteria_EPS + cv2.TermCriteria_MAX_ITER, \n",
    "             10, \n",
    "             1.0)\n",
    "\n",
    "attempts = 10\n",
    "\n",
    "# Set flags (Just to avoid line break in the code)\n",
    "flag = cv2.KMEANS_RANDOM_CENTERS"
   ]
  },
  {
   "cell_type": "code",
   "execution_count": 13,
   "metadata": {},
   "outputs": [],
   "source": [
    "def nkmeans(n_cluster):\n",
    "    compactness, labels, centers = cv2.kmeans(data=Z, \n",
    "                                              K=n_cluster, \n",
    "                                              bestLabels=bestLabel, \n",
    "                                              criteria=criterias, \n",
    "                                              attempts=attempts, \n",
    "                                              flags=flag)\n",
    "\n",
    "    centers = np.uint8(centers)\n",
    "    res = centers[labels.flatten()]\n",
    "    img_result = res.reshape((img.shape))\n",
    "    \n",
    "    # save image\n",
    "    cv2.imwrite(f\"../output/kmeans/{n_cluster}means.jpg\", img_result)\n",
    "    print(f\"Saving image: {n_cluster}means.jpg\")"
   ]
  },
  {
   "cell_type": "code",
   "execution_count": 14,
   "metadata": {},
   "outputs": [
    {
     "name": "stdout",
     "output_type": "stream",
     "text": [
      "Saving image: 4means.jpg\n",
      "Saving image: 8means.jpg\n",
      "Saving image: 12means.jpg\n",
      "Saving image: 16means.jpg\n"
     ]
    }
   ],
   "source": [
    "n_clusters = [i for i in range(4, 20) if i % 4 == 0]\n",
    "\n",
    "for k in n_clusters:\n",
    "    nkmeans(k)"
   ]
  }
 ],
 "metadata": {
  "hide_input": false,
  "kernelspec": {
   "display_name": "Python 3",
   "language": "python",
   "name": "python3"
  },
  "language_info": {
   "codemirror_mode": {
    "name": "ipython",
    "version": 3
   },
   "file_extension": ".py",
   "mimetype": "text/x-python",
   "name": "python",
   "nbconvert_exporter": "python",
   "pygments_lexer": "ipython3",
   "version": "3.8.6"
  },
  "toc": {
   "base_numbering": 1,
   "nav_menu": {},
   "number_sections": false,
   "sideBar": true,
   "skip_h1_title": false,
   "title_cell": "Table of Contents",
   "title_sidebar": "Contents",
   "toc_cell": true,
   "toc_position": {},
   "toc_section_display": true,
   "toc_window_display": false
  }
 },
 "nbformat": 4,
 "nbformat_minor": 4
}
